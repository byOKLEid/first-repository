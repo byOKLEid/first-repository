{
 "cells": [
  {
   "cell_type": "code",
   "execution_count": 2,
   "metadata": {},
   "outputs": [],
   "source": [
    "from sklearn.datasets import load_digits\n",
    "from sklearn.model_selection import train_test_split\n",
    "from sklearn.metrics import classification_report"
   ]
  },
  {
   "cell_type": "code",
   "execution_count": 3,
   "metadata": {},
   "outputs": [
    {
     "data": {
      "text/plain": [
       "dict_keys(['data', 'target', 'frame', 'feature_names', 'target_names', 'images', 'DESCR'])"
      ]
     },
     "execution_count": 3,
     "metadata": {},
     "output_type": "execute_result"
    }
   ],
   "source": [
    "digits = load_digits()\n",
    "\n",
    "digits.keys()"
   ]
  },
  {
   "cell_type": "code",
   "execution_count": 4,
   "metadata": {},
   "outputs": [],
   "source": [
    "digits_data = digits.data"
   ]
  },
  {
   "cell_type": "code",
   "execution_count": 5,
   "metadata": {},
   "outputs": [
    {
     "data": {
      "text/plain": [
       "['pixel_0_0',\n",
       " 'pixel_0_1',\n",
       " 'pixel_0_2',\n",
       " 'pixel_0_3',\n",
       " 'pixel_0_4',\n",
       " 'pixel_0_5',\n",
       " 'pixel_0_6',\n",
       " 'pixel_0_7',\n",
       " 'pixel_1_0',\n",
       " 'pixel_1_1',\n",
       " 'pixel_1_2',\n",
       " 'pixel_1_3',\n",
       " 'pixel_1_4',\n",
       " 'pixel_1_5',\n",
       " 'pixel_1_6',\n",
       " 'pixel_1_7',\n",
       " 'pixel_2_0',\n",
       " 'pixel_2_1',\n",
       " 'pixel_2_2',\n",
       " 'pixel_2_3',\n",
       " 'pixel_2_4',\n",
       " 'pixel_2_5',\n",
       " 'pixel_2_6',\n",
       " 'pixel_2_7',\n",
       " 'pixel_3_0',\n",
       " 'pixel_3_1',\n",
       " 'pixel_3_2',\n",
       " 'pixel_3_3',\n",
       " 'pixel_3_4',\n",
       " 'pixel_3_5',\n",
       " 'pixel_3_6',\n",
       " 'pixel_3_7',\n",
       " 'pixel_4_0',\n",
       " 'pixel_4_1',\n",
       " 'pixel_4_2',\n",
       " 'pixel_4_3',\n",
       " 'pixel_4_4',\n",
       " 'pixel_4_5',\n",
       " 'pixel_4_6',\n",
       " 'pixel_4_7',\n",
       " 'pixel_5_0',\n",
       " 'pixel_5_1',\n",
       " 'pixel_5_2',\n",
       " 'pixel_5_3',\n",
       " 'pixel_5_4',\n",
       " 'pixel_5_5',\n",
       " 'pixel_5_6',\n",
       " 'pixel_5_7',\n",
       " 'pixel_6_0',\n",
       " 'pixel_6_1',\n",
       " 'pixel_6_2',\n",
       " 'pixel_6_3',\n",
       " 'pixel_6_4',\n",
       " 'pixel_6_5',\n",
       " 'pixel_6_6',\n",
       " 'pixel_6_7',\n",
       " 'pixel_7_0',\n",
       " 'pixel_7_1',\n",
       " 'pixel_7_2',\n",
       " 'pixel_7_3',\n",
       " 'pixel_7_4',\n",
       " 'pixel_7_5',\n",
       " 'pixel_7_6',\n",
       " 'pixel_7_7']"
      ]
     },
     "execution_count": 5,
     "metadata": {},
     "output_type": "execute_result"
    }
   ],
   "source": [
    "digits.target_names;digits.feature_names"
   ]
  },
  {
   "cell_type": "code",
   "execution_count": 6,
   "metadata": {},
   "outputs": [
    {
     "name": "stdout",
     "output_type": "stream",
     "text": [
      "(1797,)\n"
     ]
    },
    {
     "data": {
      "text/plain": [
       "array([0, 1, 2, ..., 8, 9, 8])"
      ]
     },
     "execution_count": 6,
     "metadata": {},
     "output_type": "execute_result"
    }
   ],
   "source": [
    "digits_label = digits.target\n",
    "print(digits_label.shape)\n",
    "digits_label"
   ]
  },
  {
   "cell_type": "code",
   "execution_count": 7,
   "metadata": {},
   "outputs": [
    {
     "name": "stdout",
     "output_type": "stream",
     "text": [
      ".. _digits_dataset:\n",
      "\n",
      "Optical recognition of handwritten digits dataset\n",
      "--------------------------------------------------\n",
      "\n",
      "**Data Set Characteristics:**\n",
      "\n",
      "    :Number of Instances: 5620\n",
      "    :Number of Attributes: 64\n",
      "    :Attribute Information: 8x8 image of integer pixels in the range 0..16.\n",
      "    :Missing Attribute Values: None\n",
      "    :Creator: E. Alpaydin (alpaydin '@' boun.edu.tr)\n",
      "    :Date: July; 1998\n",
      "\n",
      "This is a copy of the test set of the UCI ML hand-written digits datasets\n",
      "https://archive.ics.uci.edu/ml/datasets/Optical+Recognition+of+Handwritten+Digits\n",
      "\n",
      "The data set contains images of hand-written digits: 10 classes where\n",
      "each class refers to a digit.\n",
      "\n",
      "Preprocessing programs made available by NIST were used to extract\n",
      "normalized bitmaps of handwritten digits from a preprinted form. From a\n",
      "total of 43 people, 30 contributed to the training set and different 13\n",
      "to the test set. 32x32 bitmaps are divided into nonoverlapping blocks of\n",
      "4x4 and the number of on pixels are counted in each block. This generates\n",
      "an input matrix of 8x8 where each element is an integer in the range\n",
      "0..16. This reduces dimensionality and gives invariance to small\n",
      "distortions.\n",
      "\n",
      "For info on NIST preprocessing routines, see M. D. Garris, J. L. Blue, G.\n",
      "T. Candela, D. L. Dimmick, J. Geist, P. J. Grother, S. A. Janet, and C.\n",
      "L. Wilson, NIST Form-Based Handprint Recognition System, NISTIR 5469,\n",
      "1994.\n",
      "\n",
      ".. topic:: References\n",
      "\n",
      "  - C. Kaynak (1995) Methods of Combining Multiple Classifiers and Their\n",
      "    Applications to Handwritten Digit Recognition, MSc Thesis, Institute of\n",
      "    Graduate Studies in Science and Engineering, Bogazici University.\n",
      "  - E. Alpaydin, C. Kaynak (1998) Cascading Classifiers, Kybernetika.\n",
      "  - Ken Tang and Ponnuthurai N. Suganthan and Xi Yao and A. Kai Qin.\n",
      "    Linear dimensionalityreduction using relevance weighted LDA. School of\n",
      "    Electrical and Electronic Engineering Nanyang Technological University.\n",
      "    2005.\n",
      "  - Claudio Gentile. A New Approximate Maximal Margin Classification\n",
      "    Algorithm. NIPS. 2000.\n"
     ]
    }
   ],
   "source": [
    "print(digits.DESCR)"
   ]
  },
  {
   "cell_type": "code",
   "execution_count": 8,
   "metadata": {},
   "outputs": [
    {
     "data": {
      "text/plain": [
       "array([0, 1, 2, 3, 4, 5, 6, 7, 8, 9])"
      ]
     },
     "execution_count": 8,
     "metadata": {},
     "output_type": "execute_result"
    }
   ],
   "source": [
    "digits.target_names"
   ]
  },
  {
   "cell_type": "code",
   "execution_count": 9,
   "metadata": {},
   "outputs": [
    {
     "name": "stdout",
     "output_type": "stream",
     "text": [
      "(1797, 64)\n"
     ]
    }
   ],
   "source": [
    "digits_data = digits.data\n",
    "\n",
    "print(digits_data.shape) "
   ]
  },
  {
   "cell_type": "code",
   "execution_count": 10,
   "metadata": {},
   "outputs": [
    {
     "name": "stdout",
     "output_type": "stream",
     "text": [
      "X_train 개수:  1474 , X_test 개수:  323\n"
     ]
    }
   ],
   "source": [
    "from sklearn.model_selection import train_test_split\n",
    "\n",
    "X_train, X_test, y_train, y_test = train_test_split(digits_data, \n",
    "                                                    digits_label, \n",
    "                                                    test_size=0.1797, \n",
    "                                                    random_state=9)\n",
    "print('X_train 개수: ', len(X_train), ', X_test 개수: ', len(X_test))"
   ]
  },
  {
   "cell_type": "code",
   "execution_count": 11,
   "metadata": {},
   "outputs": [
    {
     "data": {
      "text/plain": [
       "((1474, 64), (1474,))"
      ]
     },
     "execution_count": 11,
     "metadata": {},
     "output_type": "execute_result"
    }
   ],
   "source": [
    "X_train.shape, y_train.shape"
   ]
  },
  {
   "cell_type": "code",
   "execution_count": 12,
   "metadata": {},
   "outputs": [
    {
     "data": {
      "text/plain": [
       "((323, 64), (323,))"
      ]
     },
     "execution_count": 12,
     "metadata": {},
     "output_type": "execute_result"
    }
   ],
   "source": [
    "X_test.shape, y_test.shape"
   ]
  },
  {
   "cell_type": "code",
   "execution_count": 13,
   "metadata": {},
   "outputs": [
    {
     "data": {
      "text/plain": [
       "(array([4, 8, 0, ..., 8, 9, 0]),\n",
       " array([1, 1, 7, 2, 4, 0, 1, 8, 8, 3, 1, 0, 5, 3, 6, 2, 3, 8, 2, 5, 3, 5,\n",
       "        0, 0, 6, 8, 3, 2, 3, 8, 0, 1, 3, 2, 8, 0, 1, 7, 1, 3, 9, 2, 1, 4,\n",
       "        1, 1, 2, 8, 4, 4, 0, 2, 8, 4, 8, 5, 7, 3, 8, 8, 9, 2, 4, 1, 5, 2,\n",
       "        0, 5, 1, 4, 8, 4, 7, 6, 1, 9, 5, 1, 7, 6, 4, 0, 2, 5, 9, 1, 9, 7,\n",
       "        8, 7, 6, 4, 1, 5, 3, 4, 8, 7, 2, 6, 2, 9, 4, 1, 6, 4, 0, 5, 7, 8,\n",
       "        1, 3, 4, 3, 1, 3, 8, 6, 2, 5, 0, 7, 8, 9, 0, 1, 9, 7, 5, 6, 7, 9,\n",
       "        9, 2, 4, 3, 8, 9, 0, 5, 2, 2, 1, 5, 4, 0, 1, 8, 5, 5, 4, 5, 2, 5,\n",
       "        1, 7, 5, 5, 7, 4, 9, 3, 5, 4, 6, 9, 0, 3, 4, 1, 6, 0, 6, 3, 2, 8,\n",
       "        3, 9, 2, 2, 2, 8, 3, 4, 2, 2, 8, 3, 7, 4, 2, 8, 5, 0, 1, 8, 9, 0,\n",
       "        7, 5, 1, 6, 9, 0, 7, 5, 1, 3, 7, 3, 0, 9, 2, 9, 9, 8, 9, 4, 0, 7,\n",
       "        8, 3, 5, 3, 4, 6, 6, 5, 0, 9, 6, 0, 6, 9, 4, 1, 5, 5, 0, 4, 2, 2,\n",
       "        2, 3, 4, 0, 8, 0, 9, 4, 5, 1, 4, 1, 3, 8, 4, 9, 2, 8, 2, 2, 7, 1,\n",
       "        8, 2, 0, 2, 9, 6, 2, 9, 3, 7, 4, 5, 7, 4, 9, 5, 6, 4, 5, 9, 2, 9,\n",
       "        1, 6, 7, 9, 5, 2, 0, 5, 6, 1, 4, 1, 3, 4, 9, 5, 8, 1, 2, 1, 2, 6,\n",
       "        4, 4, 9, 5, 2, 3, 5, 4, 2, 7, 6, 3, 7, 1, 6]))"
      ]
     },
     "execution_count": 13,
     "metadata": {},
     "output_type": "execute_result"
    }
   ],
   "source": [
    "y_train, y_test"
   ]
  },
  {
   "cell_type": "code",
   "execution_count": 14,
   "metadata": {},
   "outputs": [
    {
     "name": "stdout",
     "output_type": "stream",
     "text": [
      "classifier\n"
     ]
    }
   ],
   "source": [
    "from sklearn.tree import DecisionTreeClassifier\n",
    "\n",
    "decision_tree = DecisionTreeClassifier(random_state=180)\n",
    "print(decision_tree._estimator_type)"
   ]
  },
  {
   "cell_type": "code",
   "execution_count": 15,
   "metadata": {},
   "outputs": [
    {
     "name": "stdout",
     "output_type": "stream",
     "text": [
      "              precision    recall  f1-score   support\n",
      "\n",
      "           0       1.00      0.93      0.96        28\n",
      "           1       0.80      0.76      0.78        37\n",
      "           2       0.92      0.88      0.90        41\n",
      "           3       0.63      0.90      0.74        30\n",
      "           4       0.90      0.74      0.81        38\n",
      "           5       0.86      0.86      0.86        37\n",
      "           6       0.89      1.00      0.94        24\n",
      "           7       0.72      0.84      0.78        25\n",
      "           8       0.71      0.65      0.68        31\n",
      "           9       0.82      0.72      0.77        32\n",
      "\n",
      "    accuracy                           0.82       323\n",
      "   macro avg       0.83      0.83      0.82       323\n",
      "weighted avg       0.83      0.82      0.82       323\n",
      "\n"
     ]
    }
   ],
   "source": [
    "decision_tree = DecisionTreeClassifier(random_state=160)\n",
    "decision_tree.fit(X_train, y_train)\n",
    "y_pred = decision_tree.predict(X_test)\n",
    "\n",
    "print(classification_report(y_test, y_pred))"
   ]
  },
  {
   "cell_type": "code",
   "execution_count": 16,
   "metadata": {},
   "outputs": [
    {
     "name": "stdout",
     "output_type": "stream",
     "text": [
      "              precision    recall  f1-score   support\n",
      "\n",
      "           0       0.97      1.00      0.99       155\n",
      "           1       0.87      0.90      0.88       166\n",
      "           2       0.91      0.81      0.86       162\n",
      "           3       0.88      0.89      0.89       165\n",
      "           4       0.95      0.92      0.93       169\n",
      "           5       0.94      0.87      0.90       166\n",
      "           6       0.97      0.96      0.97       161\n",
      "           7       0.84      0.99      0.91       159\n",
      "           8       0.91      0.87      0.89       157\n",
      "           9       0.87      0.87      0.87       158\n",
      "\n",
      "    accuracy                           0.91      1618\n",
      "   macro avg       0.91      0.91      0.91      1618\n",
      "weighted avg       0.91      0.91      0.91      1618\n",
      "\n"
     ]
    }
   ],
   "source": [
    "from sklearn.ensemble import RandomForestClassifier\n",
    "\n",
    "X_train, X_test, y_train, y_test = train_test_split(digits_data, \n",
    "                                                    digits_label, \n",
    "                                                    test_size=0.9, \n",
    "                                                    random_state=200)\n",
    "\n",
    "random_forest = RandomForestClassifier(random_state=200)\n",
    "random_forest.fit(X_train, y_train)\n",
    "y_pred = random_forest.predict(X_test)\n",
    "\n",
    "print(classification_report(y_test, y_pred))"
   ]
  },
  {
   "cell_type": "code",
   "execution_count": 17,
   "metadata": {},
   "outputs": [
    {
     "name": "stdout",
     "output_type": "stream",
     "text": [
      "classifier\n"
     ]
    }
   ],
   "source": [
    "from sklearn import svm\n",
    "svm_model = svm.SVC()\n",
    "\n",
    "print(svm_model._estimator_type)"
   ]
  },
  {
   "cell_type": "code",
   "execution_count": 18,
   "metadata": {},
   "outputs": [
    {
     "name": "stdout",
     "output_type": "stream",
     "text": [
      "              precision    recall  f1-score   support\n",
      "\n",
      "           0       0.98      1.00      0.99       155\n",
      "           1       0.81      0.90      0.85       166\n",
      "           2       0.91      0.85      0.88       162\n",
      "           3       0.96      0.91      0.93       165\n",
      "           4       0.99      0.92      0.95       169\n",
      "           5       0.97      0.93      0.95       166\n",
      "           6       0.97      0.96      0.97       161\n",
      "           7       0.90      0.99      0.94       159\n",
      "           8       0.89      0.89      0.89       157\n",
      "           9       0.90      0.91      0.90       158\n",
      "\n",
      "    accuracy                           0.92      1618\n",
      "   macro avg       0.93      0.92      0.93      1618\n",
      "weighted avg       0.93      0.92      0.92      1618\n",
      "\n"
     ]
    }
   ],
   "source": [
    "svm_model.fit(X_train, y_train)\n",
    "y_pred = svm_model.predict(X_test)\n",
    "\n",
    "print(classification_report(y_test, y_pred))"
   ]
  },
  {
   "cell_type": "code",
   "execution_count": 19,
   "metadata": {},
   "outputs": [
    {
     "name": "stdout",
     "output_type": "stream",
     "text": [
      "classifier\n"
     ]
    }
   ],
   "source": [
    "from sklearn.linear_model import SGDClassifier\n",
    "sgd_model = SGDClassifier()\n",
    "\n",
    "print(sgd_model._estimator_type)"
   ]
  },
  {
   "cell_type": "code",
   "execution_count": 20,
   "metadata": {},
   "outputs": [
    {
     "name": "stdout",
     "output_type": "stream",
     "text": [
      "              precision    recall  f1-score   support\n",
      "\n",
      "           0       0.98      0.99      0.99       155\n",
      "           1       0.65      0.92      0.76       166\n",
      "           2       0.91      0.90      0.90       162\n",
      "           3       0.86      0.92      0.89       165\n",
      "           4       1.00      0.78      0.87       169\n",
      "           5       0.99      0.89      0.94       166\n",
      "           6       0.99      0.93      0.96       161\n",
      "           7       0.88      0.96      0.92       159\n",
      "           8       0.87      0.73      0.79       157\n",
      "           9       0.83      0.82      0.82       158\n",
      "\n",
      "    accuracy                           0.88      1618\n",
      "   macro avg       0.90      0.88      0.88      1618\n",
      "weighted avg       0.90      0.88      0.88      1618\n",
      "\n"
     ]
    }
   ],
   "source": [
    "sgd_model.fit(X_train, y_train)\n",
    "y_pred = sgd_model.predict(X_test)\n",
    "\n",
    "print(classification_report(y_test, y_pred))"
   ]
  },
  {
   "cell_type": "code",
   "execution_count": 21,
   "metadata": {},
   "outputs": [
    {
     "name": "stdout",
     "output_type": "stream",
     "text": [
      "classifier\n"
     ]
    }
   ],
   "source": [
    "from sklearn.linear_model import LogisticRegression\n",
    "logistic_model = LogisticRegression(max_iter=10000)\n",
    "\n",
    "print(logistic_model._estimator_type)"
   ]
  },
  {
   "cell_type": "code",
   "execution_count": 22,
   "metadata": {},
   "outputs": [
    {
     "name": "stdout",
     "output_type": "stream",
     "text": [
      "              precision    recall  f1-score   support\n",
      "\n",
      "           0       0.99      0.98      0.98       155\n",
      "           1       0.80      0.93      0.86       166\n",
      "           2       0.92      0.89      0.91       162\n",
      "           3       0.92      0.92      0.92       165\n",
      "           4       0.97      0.88      0.93       169\n",
      "           5       0.96      0.92      0.94       166\n",
      "           6       0.99      0.95      0.97       161\n",
      "           7       0.96      0.94      0.95       159\n",
      "           8       0.86      0.85      0.86       157\n",
      "           9       0.82      0.89      0.86       158\n",
      "\n",
      "    accuracy                           0.91      1618\n",
      "   macro avg       0.92      0.91      0.92      1618\n",
      "weighted avg       0.92      0.91      0.92      1618\n",
      "\n"
     ]
    }
   ],
   "source": [
    "logistic_model.fit(X_train, y_train)\n",
    "y_pred = logistic_model.predict(X_test)\n",
    "\n",
    "print(classification_report(y_test, y_pred))"
   ]
  },
  {
   "cell_type": "code",
   "execution_count": 23,
   "metadata": {},
   "outputs": [
    {
     "name": "stdout",
     "output_type": "stream",
     "text": [
      "              precision    recall  f1-score   support\n",
      "\n",
      "           0       0.99      0.98      0.98       155\n",
      "           1       0.80      0.93      0.86       166\n",
      "           2       0.92      0.89      0.91       162\n",
      "           3       0.92      0.92      0.92       165\n",
      "           4       0.97      0.88      0.93       169\n",
      "           5       0.96      0.92      0.94       166\n",
      "           6       0.99      0.95      0.97       161\n",
      "           7       0.96      0.94      0.95       159\n",
      "           8       0.86      0.85      0.86       157\n",
      "           9       0.82      0.89      0.86       158\n",
      "\n",
      "    accuracy                           0.91      1618\n",
      "   macro avg       0.92      0.91      0.92      1618\n",
      "weighted avg       0.92      0.91      0.92      1618\n",
      "\n"
     ]
    }
   ],
   "source": [
    "from sklearn.metrics import classification_report\n",
    "\n",
    "print(classification_report(y_test, y_pred))"
   ]
  },
  {
   "cell_type": "code",
   "execution_count": null,
   "metadata": {},
   "outputs": [],
   "source": [
    "SVM모델이 다른 모델들보다 정확도가 높았습니다. 제 생각에 그 이유는\n",
    "다른 모델들 보다 Over Fitting되는 경향이 적기 때문이 아닐까 싶습니다.\n"
   ]
  }
 ],
 "metadata": {
  "kernelspec": {
   "display_name": "Python 3",
   "language": "python",
   "name": "python3"
  },
  "language_info": {
   "codemirror_mode": {
    "name": "ipython",
    "version": 3
   },
   "file_extension": ".py",
   "mimetype": "text/x-python",
   "name": "python",
   "nbconvert_exporter": "python",
   "pygments_lexer": "ipython3",
   "version": "3.7.6"
  }
 },
 "nbformat": 4,
 "nbformat_minor": 4
}
